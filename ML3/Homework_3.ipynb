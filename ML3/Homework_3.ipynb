{
 "cells": [
  {
   "cell_type": "markdown",
   "id": "3e8679ea",
   "metadata": {
    "id": "3e8679ea"
   },
   "source": [
    "## Описание проекта"
   ]
  },
  {
   "cell_type": "markdown",
   "id": "20a99da9",
   "metadata": {
    "id": "20a99da9"
   },
   "source": [
    "\n",
    "\n",
    "Обучите различные модели классифицировать комментарии на позитивные и негативные. В вашем распоряжении набор данных с разметкой о токсичности правок.\n",
    "\n",
    "Постройте модель со значением метрики качества F1 не меньше 0.75."
   ]
  },
  {
   "cell_type": "markdown",
   "id": "bedf0a43",
   "metadata": {
    "id": "bedf0a43"
   },
   "source": [
    "Алгоритм решения выглядит так:\n",
    "    \n",
    "1. Загрузите и подготовьте данные.\n",
    "\n",
    "2. Обучите различные модели нейронных сетей, в том числе рекуррентные.\n",
    "\n",
    "3. Сделайте выводы."
   ]
  },
  {
   "cell_type": "markdown",
   "id": "9ae0d02e",
   "metadata": {
    "id": "9ae0d02e"
   },
   "source": [
    "### Описание данных"
   ]
  },
  {
   "cell_type": "markdown",
   "id": "8eab9b7d",
   "metadata": {
    "id": "8eab9b7d"
   },
   "source": [
    "Данные находятся в файле `toxic_comments.csv`.\n",
    "\n",
    "Столбец `text` в нём содержит текст комментария, а `toxic` — целевой признак."
   ]
  },
  {
   "cell_type": "markdown",
   "id": "90a6cc5f",
   "metadata": {
    "id": "90a6cc5f"
   },
   "source": [
    "## Загрузка и подготовка данных"
   ]
  },
  {
   "cell_type": "code",
   "execution_count": null,
   "id": "09ac31f1",
   "metadata": {
    "colab": {
     "base_uri": "https://localhost:8080/"
    },
    "id": "09ac31f1",
    "outputId": "e838a9b3-cb55-4b90-c474-8e8b3e960e87"
   },
   "outputs": [
    {
     "name": "stderr",
     "output_type": "stream",
     "text": [
      "2024-11-27 00:02:58.154075: I tensorflow/core/platform/cpu_feature_guard.cc:210] This TensorFlow binary is optimized to use available CPU instructions in performance-critical operations.\n",
      "To enable the following instructions: AVX2 FMA, in other operations, rebuild TensorFlow with the appropriate compiler flags.\n"
     ]
    }
   ],
   "source": [
    "import pandas as pd\n",
    "import numpy as np\n",
    "import seaborn as sns\n",
    "import matplotlib.pyplot as plt\n",
    "\n",
    "from pymystem3 import Mystem\n",
    "import re\n",
    "\n",
    "import numpy as np\n",
    "import pandas as pd\n",
    "from tqdm import notebook\n",
    "\n",
    "from sklearn.feature_extraction.text import CountVectorizer, TfidfVectorizer\n",
    "import tensorflow as tf\n",
    "from tensorflow import keras\n",
    "from tensorflow.keras import utils\n",
    "from tensorflow.keras.layers import Dense, Flatten, Dropout, Embedding, SimpleRNN, LSTM, GRU\n",
    "from tensorflow.python.keras.models import Sequential\n",
    "from tensorflow.keras.callbacks import EarlyStopping\n",
    "from tensorflow.keras.utils import plot_model\n",
    "\n",
    "from tensorflow.keras import utils\n",
    "from tensorflow.keras.preprocessing.sequence import pad_sequences\n",
    "\n",
    "from sklearn.model_selection import train_test_split\n",
    "from sklearn import metrics\n",
    "from sklearn.metrics import classification_report, confusion_matrix\n",
    "from sklearn.metrics import accuracy_score, recall_score, precision_score, f1_score, roc_auc_score\n",
    "from sklearn.metrics import roc_curve, RocCurveDisplay\n",
    "from sklearn.metrics import classification_report, confusion_matrix, ConfusionMatrixDisplay, make_scorer\n",
    "\n",
    "from sklearn.model_selection import train_test_split, GridSearchCV\n",
    "from sklearn.preprocessing import StandardScaler, OneHotEncoder\n",
    "from sklearn.metrics import f1_score\n",
    "from sklearn.ensemble import RandomForestClassifier\n",
    "from sklearn.linear_model import LogisticRegression\n",
    "from sklearn.svm import SVC\n",
    "from sklearn.ensemble import GradientBoostingClassifier\n",
    "from sklearn.pipeline import Pipeline\n",
    "from sklearn.compose import ColumnTransformer\n",
    "from sklearn.naive_bayes import GaussianNB\n",
    "from sklearn.tree import DecisionTreeClassifier\n",
    "from sklearn.naive_bayes import MultinomialNB\n",
    "from sklearn.feature_extraction.text import TfidfVectorizer\n",
    "\n"
   ]
  },
  {
   "cell_type": "code",
   "execution_count": 2,
   "id": "239a7f08",
   "metadata": {},
   "outputs": [
    {
     "name": "stderr",
     "output_type": "stream",
     "text": [
      "[nltk_data] Error loading wordnet: <urlopen error [SSL:\n",
      "[nltk_data]     CERTIFICATE_VERIFY_FAILED] certificate verify failed:\n",
      "[nltk_data]     unable to get local issuer certificate (_ssl.c:997)>\n",
      "[nltk_data] Error loading punkt: <urlopen error [SSL:\n",
      "[nltk_data]     CERTIFICATE_VERIFY_FAILED] certificate verify failed:\n",
      "[nltk_data]     unable to get local issuer certificate (_ssl.c:997)>\n",
      "[nltk_data] Error loading stopwords: <urlopen error [SSL:\n",
      "[nltk_data]     CERTIFICATE_VERIFY_FAILED] certificate verify failed:\n",
      "[nltk_data]     unable to get local issuer certificate (_ssl.c:997)>\n"
     ]
    }
   ],
   "source": [
    "\n",
    "import nltk\n",
    "\n",
    "from nltk.corpus import stopwords as nltk_stopwords\n",
    "from nltk.stem import WordNetLemmatizer\n",
    "\n",
    "nltk.download('wordnet')\n",
    "nltk.download('punkt')\n",
    "nltk.download('stopwords')\n",
    "\n",
    "import warnings\n",
    "warnings.filterwarnings('ignore')"
   ]
  },
  {
   "cell_type": "code",
   "execution_count": 6,
   "id": "b253ccf9",
   "metadata": {
    "colab": {
     "base_uri": "https://localhost:8080/",
     "height": 381
    },
    "id": "b253ccf9",
    "outputId": "655a1661-3bb2-46da-b18f-761f743f16c8"
   },
   "outputs": [
    {
     "data": {
      "text/html": [
       "<div>\n",
       "<style scoped>\n",
       "    .dataframe tbody tr th:only-of-type {\n",
       "        vertical-align: middle;\n",
       "    }\n",
       "\n",
       "    .dataframe tbody tr th {\n",
       "        vertical-align: top;\n",
       "    }\n",
       "\n",
       "    .dataframe thead th {\n",
       "        text-align: right;\n",
       "    }\n",
       "</style>\n",
       "<table border=\"1\" class=\"dataframe\">\n",
       "  <thead>\n",
       "    <tr style=\"text-align: right;\">\n",
       "      <th></th>\n",
       "      <th>text</th>\n",
       "      <th>toxic</th>\n",
       "    </tr>\n",
       "  </thead>\n",
       "  <tbody>\n",
       "    <tr>\n",
       "      <th>0</th>\n",
       "      <td>Explanation\\nWhy the edits made under my usern...</td>\n",
       "      <td>0</td>\n",
       "    </tr>\n",
       "    <tr>\n",
       "      <th>1</th>\n",
       "      <td>D'aww! He matches this background colour I'm s...</td>\n",
       "      <td>0</td>\n",
       "    </tr>\n",
       "    <tr>\n",
       "      <th>2</th>\n",
       "      <td>Hey man, I'm really not trying to edit war. It...</td>\n",
       "      <td>0</td>\n",
       "    </tr>\n",
       "    <tr>\n",
       "      <th>3</th>\n",
       "      <td>\"\\nMore\\nI can't make any real suggestions on ...</td>\n",
       "      <td>0</td>\n",
       "    </tr>\n",
       "    <tr>\n",
       "      <th>4</th>\n",
       "      <td>You, sir, are my hero. Any chance you remember...</td>\n",
       "      <td>0</td>\n",
       "    </tr>\n",
       "    <tr>\n",
       "      <th>5</th>\n",
       "      <td>\"\\n\\nCongratulations from me as well, use the ...</td>\n",
       "      <td>0</td>\n",
       "    </tr>\n",
       "    <tr>\n",
       "      <th>6</th>\n",
       "      <td>COCKSUCKER BEFORE YOU PISS AROUND ON MY WORK</td>\n",
       "      <td>1</td>\n",
       "    </tr>\n",
       "    <tr>\n",
       "      <th>7</th>\n",
       "      <td>Your vandalism to the Matt Shirvington article...</td>\n",
       "      <td>0</td>\n",
       "    </tr>\n",
       "    <tr>\n",
       "      <th>8</th>\n",
       "      <td>Sorry if the word 'nonsense' was offensive to ...</td>\n",
       "      <td>0</td>\n",
       "    </tr>\n",
       "    <tr>\n",
       "      <th>9</th>\n",
       "      <td>alignment on this subject and which are contra...</td>\n",
       "      <td>0</td>\n",
       "    </tr>\n",
       "  </tbody>\n",
       "</table>\n",
       "</div>"
      ],
      "text/plain": [
       "                                                text  toxic\n",
       "0  Explanation\\nWhy the edits made under my usern...      0\n",
       "1  D'aww! He matches this background colour I'm s...      0\n",
       "2  Hey man, I'm really not trying to edit war. It...      0\n",
       "3  \"\\nMore\\nI can't make any real suggestions on ...      0\n",
       "4  You, sir, are my hero. Any chance you remember...      0\n",
       "5  \"\\n\\nCongratulations from me as well, use the ...      0\n",
       "6       COCKSUCKER BEFORE YOU PISS AROUND ON MY WORK      1\n",
       "7  Your vandalism to the Matt Shirvington article...      0\n",
       "8  Sorry if the word 'nonsense' was offensive to ...      0\n",
       "9  alignment on this subject and which are contra...      0"
      ]
     },
     "execution_count": 6,
     "metadata": {},
     "output_type": "execute_result"
    }
   ],
   "source": [
    "# Прочитаем файл с данными в переменную df и изучим их\n",
    "df = pd.read_csv('/Users/nikitafedorov/-ML/ml3/toxic_comments.csv', index_col=0)\n",
    "\n",
    "df.head(10)"
   ]
  },
  {
   "cell_type": "code",
   "execution_count": 7,
   "id": "3ffb8c53",
   "metadata": {
    "colab": {
     "base_uri": "https://localhost:8080/"
    },
    "id": "3ffb8c53",
    "outputId": "1f9c558c-680f-45ca-cb3f-5c89ffa204bb"
   },
   "outputs": [
    {
     "name": "stdout",
     "output_type": "stream",
     "text": [
      "<class 'pandas.core.frame.DataFrame'>\n",
      "Index: 159292 entries, 0 to 159450\n",
      "Data columns (total 2 columns):\n",
      " #   Column  Non-Null Count   Dtype \n",
      "---  ------  --------------   ----- \n",
      " 0   text    159292 non-null  object\n",
      " 1   toxic   159292 non-null  int64 \n",
      "dtypes: int64(1), object(1)\n",
      "memory usage: 3.6+ MB\n"
     ]
    }
   ],
   "source": [
    "# общая информация методом info()\n",
    "df.info()"
   ]
  },
  {
   "cell_type": "markdown",
   "id": "5dd5c4c3",
   "metadata": {
    "id": "5dd5c4c3"
   },
   "source": [
    "Датасет состоит из 159292 записей. В столбце `text` представлен комментариями пользователей, в столбце `toxic` указана метка токсичности соответствующего высказывания."
   ]
  },
  {
   "cell_type": "code",
   "execution_count": 8,
   "id": "0538c552",
   "metadata": {
    "colab": {
     "base_uri": "https://localhost:8080/",
     "height": 147
    },
    "id": "0538c552",
    "outputId": "abf0ab7a-0dc0-4fa7-9f24-f2425ac83bb5"
   },
   "outputs": [
    {
     "data": {
      "text/plain": [
       "text     0.0\n",
       "toxic    0.0\n",
       "dtype: float64"
      ]
     },
     "execution_count": 8,
     "metadata": {},
     "output_type": "execute_result"
    }
   ],
   "source": [
    "# доля пропусков\n",
    "df.isnull().mean()"
   ]
  },
  {
   "cell_type": "code",
   "execution_count": 9,
   "id": "339a4468",
   "metadata": {
    "colab": {
     "base_uri": "https://localhost:8080/"
    },
    "id": "339a4468",
    "outputId": "2ecba02f-77a0-497c-882b-71717e69aca2"
   },
   "outputs": [
    {
     "data": {
      "text/plain": [
       "0"
      ]
     },
     "execution_count": 9,
     "metadata": {},
     "output_type": "execute_result"
    }
   ],
   "source": [
    "# число дубликатов\n",
    "df.duplicated().sum()"
   ]
  },
  {
   "cell_type": "markdown",
   "id": "4c83eb16",
   "metadata": {
    "id": "4c83eb16"
   },
   "source": [
    "Датасет не содержит пропущенных значений и явных дубликатов."
   ]
  },
  {
   "cell_type": "code",
   "execution_count": 10,
   "id": "7666049e",
   "metadata": {
    "colab": {
     "base_uri": "https://localhost:8080/",
     "height": 178
    },
    "id": "7666049e",
    "outputId": "718b0b83-de8d-47b1-c511-bb4e99a27102"
   },
   "outputs": [
    {
     "data": {
      "text/plain": [
       "toxic\n",
       "0    0.898388\n",
       "1    0.101612\n",
       "Name: proportion, dtype: float64"
      ]
     },
     "execution_count": 10,
     "metadata": {},
     "output_type": "execute_result"
    }
   ],
   "source": [
    "# Определим количество записей каждого класса\n",
    "df['toxic'].value_counts(normalize=True)"
   ]
  },
  {
   "cell_type": "markdown",
   "id": "b13ba2ab",
   "metadata": {
    "id": "b13ba2ab"
   },
   "source": [
    "Датасет не является сбалансированным, количество объектов класса 0 значительно превышает (почти в 9 раз) количество объектов класса 1. Это как правило не приводит к высокой обощающей способности алгоритмов.\n",
    "\n",
    "Метрика accuracy будет некорректно отражать качество классификации. В таких случаях лучше использовать `f`-меру. Для бинарной классификации оценку качества обощающей способности алгоритма также эффективно оценивать по метрике `ROC-AUC`."
   ]
  },
  {
   "cell_type": "markdown",
   "id": "77d05a62",
   "metadata": {
    "id": "77d05a62"
   },
   "source": [
    "Алгоритм подготовки данных для векторизации.\n",
    "\n",
    "1. Приведём кодировку символов к `Unicode` (для русскоязычных текстов)\n",
    "\n",
    "2. Проведём лемматизацию слов\n",
    "\n",
    "3. Удалим пунктуацию и лишние пробелы\n",
    "\n",
    "4. Удалим стоп-слова (пока загрузим список, удалять будем в процессе `tf-idf` векторизации)\n",
    "\n",
    "<div class=\"alert alert-block alert-warning\">\n",
    "<b>Замечание:</b> В данном случае приводить кодировку символов к `Unicode` нет необходимости, т.к. текст на английском языке.\n",
    "    Для текста на русском языке используем следующий код:\n",
    "    \n",
    "    corpus = df['text'].values.astype('U')\n",
    "</div>\n"
   ]
  },
  {
   "cell_type": "code",
   "execution_count": 11,
   "id": "2c36435f",
   "metadata": {
    "colab": {
     "base_uri": "https://localhost:8080/"
    },
    "id": "2c36435f",
    "outputId": "724b485d-e487-411f-8c8c-808e706d8d08"
   },
   "outputs": [
    {
     "data": {
      "text/plain": [
       "array([\"Explanation\\nWhy the edits made under my username Hardcore Metallica Fan were reverted? They weren't vandalisms, just closure on some GAs after I voted at New York Dolls FAC. And please don't remove the template from the talk page since I'm retired now.89.205.38.27\",\n",
       "       \"D'aww! He matches this background colour I'm seemingly stuck with. Thanks.  (talk) 21:51, January 11, 2016 (UTC)\",\n",
       "       \"Hey man, I'm really not trying to edit war. It's just that this guy is constantly removing relevant information and talking to me through edits instead of my talk page. He seems to care more about the formatting than the actual info.\",\n",
       "       ...,\n",
       "       'Spitzer \\n\\nUmm, theres no actual article for prostitution ring.  - Crunch Captain.',\n",
       "       'And it looks like it was actually you who put on the speedy to have the first version deleted now that I look at it.',\n",
       "       '\"\\nAnd ... I really don\\'t think you understand.  I came here and my idea was bad right away.  What kind of community goes \"\"you have bad ideas\"\" go away, instead of helping rewrite them.   \"'],\n",
       "      dtype=object)"
      ]
     },
     "execution_count": 11,
     "metadata": {},
     "output_type": "execute_result"
    }
   ],
   "source": [
    "corpus = df['text'].values\n",
    "corpus"
   ]
  },
  {
   "cell_type": "code",
   "execution_count": 12,
   "id": "54d3fcbc",
   "metadata": {
    "id": "54d3fcbc"
   },
   "outputs": [],
   "source": [
    "lemmatizer = WordNetLemmatizer() # Лемматизатор WordNetLemmatizer применяют к словам, а не ко всему тексту сразу\n",
    "\n",
    "# Функция для лемматизации\n",
    "\n",
    "def lemmatize(text):\n",
    "    word_list = nltk.word_tokenize(text)\n",
    "    return ' '.join([lemmatizer.lemmatize(w) for w in word_list])"
   ]
  },
  {
   "cell_type": "code",
   "execution_count": 13,
   "id": "c7a3eaa2",
   "metadata": {
    "id": "c7a3eaa2"
   },
   "outputs": [],
   "source": [
    "# Функция для устранения лишних пробелов и пунктуации\n",
    "def clear_text(text):\n",
    "    text = re.sub(r'[^a-zA-Z ]', ' ', text)\n",
    "    return \" \".join(text.split())"
   ]
  },
  {
   "cell_type": "code",
   "execution_count": 14,
   "id": "a5d89e28",
   "metadata": {
    "id": "a5d89e28"
   },
   "outputs": [],
   "source": [
    "# Проведем лемматизацию\n",
    "df['lemm_text'] = [lemmatize(clear_text(corpus[i])) for i in range(len(corpus))]"
   ]
  },
  {
   "cell_type": "code",
   "execution_count": 15,
   "id": "NmkmNNLczWem",
   "metadata": {
    "colab": {
     "base_uri": "https://localhost:8080/",
     "height": 458
    },
    "id": "NmkmNNLczWem",
    "outputId": "6b097f1a-045d-47c8-8ab7-182291571aa2"
   },
   "outputs": [
    {
     "data": {
      "text/plain": [
       "0         Explanation Why the edits made under my userna...\n",
       "1         D aww He match this background colour I m seem...\n",
       "2         Hey man I m really not trying to edit war It s...\n",
       "3         More I can t make any real suggestion on impro...\n",
       "4         You sir are my hero Any chance you remember wh...\n",
       "                                ...                        \n",
       "159446    And for the second time of asking when your vi...\n",
       "159447    You should be ashamed of yourself That is a ho...\n",
       "159448    Spitzer Umm there no actual article for prosti...\n",
       "159449    And it look like it wa actually you who put on...\n",
       "159450    And I really don t think you understand I came...\n",
       "Name: lemm_text, Length: 159292, dtype: object"
      ]
     },
     "execution_count": 15,
     "metadata": {},
     "output_type": "execute_result"
    }
   ],
   "source": [
    "df['lemm_text']"
   ]
  },
  {
   "cell_type": "code",
   "execution_count": 16,
   "id": "34f8bfb8",
   "metadata": {
    "id": "34f8bfb8"
   },
   "outputs": [],
   "source": [
    "# сформируем список стоп-слов\n",
    "stopwords = list(nltk_stopwords.words('english'))\n"
   ]
  },
  {
   "cell_type": "markdown",
   "id": "ff9cdb71",
   "metadata": {
    "id": "ff9cdb71"
   },
   "source": [
    "Выделим признак и целевой признак (класс). Разделим данные на обучающую и тестовую выборки в соотношении 4:1."
   ]
  },
  {
   "cell_type": "code",
   "execution_count": 17,
   "id": "c1b8daef",
   "metadata": {
    "id": "c1b8daef"
   },
   "outputs": [],
   "source": [
    "X = df['lemm_text']\n",
    "y = df['toxic']"
   ]
  },
  {
   "cell_type": "code",
   "execution_count": 18,
   "id": "ce447ab1",
   "metadata": {
    "colab": {
     "base_uri": "https://localhost:8080/"
    },
    "id": "ce447ab1",
    "outputId": "6dcec053-14d2-4881-f357-9e59afb511e0"
   },
   "outputs": [
    {
     "name": "stdout",
     "output_type": "stream",
     "text": [
      "Размерность обучающего набора (127433,)\n",
      "Размерность тестового набора (31859,)\n"
     ]
    }
   ],
   "source": [
    "X_train, X_test, y_train, y_test = train_test_split(X, y, test_size=0.2, random_state=145, stratify = y)\n",
    "\n",
    "print('Размерность обучающего набора',X_train.shape)\n",
    "print('Размерность тестового набора',X_test.shape)"
   ]
  },
  {
   "cell_type": "markdown",
   "id": "eb1b16c7",
   "metadata": {
    "id": "eb1b16c7"
   },
   "source": [
    "## Обучение моделей"
   ]
  },
  {
   "cell_type": "markdown",
   "id": "N9xTn7WW1b44",
   "metadata": {
    "id": "N9xTn7WW1b44"
   },
   "source": [
    "При обучении моделей будем использовать метрику `F1`.\n",
    "\n",
    "Сформируйте векторные представления признаков для обучения моделей. Подберите параметры алгоритмов, проведите обучение и тестирование всех построенных моделей."
   ]
  },
  {
   "cell_type": "code",
   "execution_count": 19,
   "id": "0877a960",
   "metadata": {},
   "outputs": [],
   "source": [
    "from sklearn.feature_extraction.text import CountVectorizer"
   ]
  },
  {
   "cell_type": "markdown",
   "id": "7f9738c7",
   "metadata": {
    "id": "7f9738c7"
   },
   "source": [
    "## Тестирование модели"
   ]
  },
  {
   "cell_type": "code",
   "execution_count": 41,
   "id": "9f653cdb",
   "metadata": {},
   "outputs": [],
   "source": [
    "cvector = CountVectorizer()\n",
    "cvector.fit(X_train)\n",
    "\n",
    "X_train_cvector = cvector.transform(X_train)\n",
    "X_test_cvector = cvector.transform(X_test)"
   ]
  },
  {
   "cell_type": "code",
   "execution_count": 44,
   "id": "e9dc5f66",
   "metadata": {},
   "outputs": [
    {
     "data": {
      "text/plain": [
       "(0.758608874421792, 0.9082874302975811)"
      ]
     },
     "execution_count": 44,
     "metadata": {},
     "output_type": "execute_result"
    }
   ],
   "source": [
    "lg = LogisticRegression(random_state=42)\n",
    "lg.fit(X_train_cvector, y_train)\n",
    "f1_score(lg.predict(X_test_cvector), y_test), roc_auc_score(lg.predict(X_test_cvector), y_test)"
   ]
  },
  {
   "cell_type": "code",
   "execution_count": 46,
   "id": "b1c7ec9d",
   "metadata": {},
   "outputs": [
    {
     "data": {
      "text/plain": [
       "(0.714475873544093, 0.8683883195137719)"
      ]
     },
     "execution_count": 46,
     "metadata": {},
     "output_type": "execute_result"
    }
   ],
   "source": [
    "mnb = MultinomialNB()\n",
    "mnb.fit(X_train_cvector, y_train)\n",
    "f1_score(mnb.predict(X_test_cvector), y_test), roc_auc_score(mnb.predict(X_test_cvector), y_test)"
   ]
  },
  {
   "cell_type": "markdown",
   "id": "f47f778e",
   "metadata": {},
   "source": [
    "***TfidfVectorizer***"
   ]
  },
  {
   "cell_type": "code",
   "execution_count": 74,
   "id": "f665821d",
   "metadata": {},
   "outputs": [],
   "source": [
    "tfidf = TfidfVectorizer()\n",
    "tfidf.fit(X_train)\n",
    "X_train_tfidf = tfidf.transform(X_train)\n",
    "X_test_tfidf = tfidf.transform(X_test)"
   ]
  },
  {
   "cell_type": "code",
   "execution_count": 75,
   "id": "86234ae0",
   "metadata": {},
   "outputs": [
    {
     "data": {
      "text/plain": [
       "(0.7435944700460829, 0.9403644227674897)"
      ]
     },
     "execution_count": 75,
     "metadata": {},
     "output_type": "execute_result"
    }
   ],
   "source": [
    "lg_td = LogisticRegression()\n",
    "lg_td.fit(X_train_tfidf, y_train)\n",
    "f1_score(lg_td.predict(X_test_tfidf), y_test), roc_auc_score(lg_td.predict(X_test_tfidf), y_test)"
   ]
  },
  {
   "cell_type": "code",
   "execution_count": 76,
   "id": "b09aac27",
   "metadata": {},
   "outputs": [
    {
     "data": {
      "text/plain": [
       "(0.6447267128560431, 0.901393636436582)"
      ]
     },
     "execution_count": 76,
     "metadata": {},
     "output_type": "execute_result"
    }
   ],
   "source": [
    "mnb_td = MultinomialNB(alpha=0.001)\n",
    "mnb_td.fit(X_train_tfidf, y_train)\n",
    "f1_score(mnb_td.predict(X_test_tfidf), y_test), roc_auc_score(mnb_td.predict(X_test_tfidf), y_test)"
   ]
  },
  {
   "cell_type": "code",
   "execution_count": 77,
   "id": "822c6e4a",
   "metadata": {
    "id": "822c6e4a"
   },
   "outputs": [
    {
     "data": {
      "text/plain": [
       "array([[28451,  1220],\n",
       "       [  171,  2017]])"
      ]
     },
     "execution_count": 77,
     "metadata": {},
     "output_type": "execute_result"
    }
   ],
   "source": [
    "# Матрица ошибок\n",
    "confusion_matrix(lg_td.predict(X_test_tfidf), y_test)"
   ]
  },
  {
   "cell_type": "code",
   "execution_count": 78,
   "id": "fb8940d9",
   "metadata": {
    "id": "fb8940d9"
   },
   "outputs": [
    {
     "data": {
      "image/png": "[encoded data removed]",
      "text/plain": [
       "<Figure size 800x600 with 1 Axes>"
      ]
     },
     "metadata": {},
     "output_type": "display_data"
    }
   ],
   "source": [
    "# ROC-кривые построенных моделей\n",
    "y_pred_prob = lg_td.predict_proba(X_test_tfidf)[:, 1]  # Вероятности для класса 1\n",
    "fpr, tpr, thresholds = roc_curve(y_test, y_pred_prob)\n",
    "\n",
    "# Построение графика\n",
    "plt.figure(figsize=(8, 6))\n",
    "plt.plot(fpr, tpr, label=\"ROC Curve (AUC = {:.2f})\".format(roc_auc_score(y_test, y_pred_prob)))\n",
    "plt.plot([0, 1], [0, 1], 'k--', label=\"Random Guessing\")  # Линия случайной классификации\n",
    "plt.xlabel(\"False Positive Rate\")\n",
    "plt.ylabel(\"True Positive Rate\")\n",
    "plt.title(\"ROC Curve\")\n",
    "plt.legend(loc=\"lower right\")\n",
    "plt.grid()\n",
    "plt.show()"
   ]
  },
  {
   "cell_type": "markdown",
   "id": "Rtg1TsXRbb5j",
   "metadata": {
    "id": "Rtg1TsXRbb5j"
   },
   "source": [
    "Напишите произвольные два комментария: положительный и отрицательный. Выясните, как их классифицировала Ваша модель."
   ]
  },
  {
   "cell_type": "markdown",
   "id": "d0596077",
   "metadata": {
    "id": "d0596077"
   },
   "source": [
    "## Выводы"
   ]
  },
  {
   "cell_type": "markdown",
   "id": "P34O8wMEa1nv",
   "metadata": {
    "id": "P34O8wMEa1nv"
   },
   "source": [
    "Сделайте выводы о качестве построенных моделей, о влиянии параметров алгоритмов на качество их обучения. Укажите, какая модель показала лучший результат."
   ]
  },
  {
   "cell_type": "code",
   "execution_count": null,
   "id": "tHFjGa_Rb4mO",
   "metadata": {
    "id": "tHFjGa_Rb4mO"
   },
   "outputs": [],
   "source": []
  }
 ],
 "metadata": {
  "colab": {
   "provenance": []
  },
  "kernelspec": {
   "display_name": "Python 3",
   "language": "python",
   "name": "python3"
  },
  "language_info": {
   "codemirror_mode": {
    "name": "ipython",
    "version": 3
   },
   "file_extension": ".py",
   "mimetype": "text/x-python",
   "name": "python",
   "nbconvert_exporter": "python",
   "pygments_lexer": "ipython3",
   "version": "3.10.0"
  },
  "toc": {
   "base_numbering": 1,
   "nav_menu": {},
   "number_sections": true,
   "sideBar": true,
   "skip_h1_title": true,
   "title_cell": "Table of Contents",
   "title_sidebar": "Contents",
   "toc_cell": false,
   "toc_position": {},
   "toc_section_display": true,
   "toc_window_display": false
  }
 },
 "nbformat": 4,
 "nbformat_minor": 5
}
